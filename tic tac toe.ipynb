{
  "nbformat": 4,
  "nbformat_minor": 0,
  "metadata": {
    "colab": {
      "provenance": []
    },
    "kernelspec": {
      "name": "python3",
      "display_name": "Python 3"
    },
    "language_info": {
      "name": "python"
    }
  },
  "cells": [
    {
      "cell_type": "code",
      "execution_count": null,
      "metadata": {
        "colab": {
          "base_uri": "https://localhost:8080/"
        },
        "id": "n-GNInM-8otv",
        "outputId": "8365f1da-f897-4ce2-ba46-4e0c199f276a"
      },
      "outputs": [
        {
          "output_type": "stream",
          "name": "stdout",
          "text": [
            "  |   |  \n",
            "---------\n",
            "  |   |  \n",
            "---------\n",
            "  |   |  \n",
            "---------\n"
          ]
        }
      ],
      "source": [
        "def print_board(board):\n",
        "    for row in board:\n",
        "        print(\" | \".join(row))\n",
        "        print(\"-\" * 9)\n",
        "\n",
        "def check_winner(board):\n",
        "    # Check rows\n",
        "    for row in board:\n",
        "        if all(cell == row[0] and cell != ' ' for cell in row):\n",
        "            return True\n",
        "\n",
        "    # Check columns\n",
        "    for col in range(3):\n",
        "        if all(board[row][col] == board[0][col] and board[row][col] != ' ' for row in range(3)):\n",
        "            return True\n",
        "\n",
        "    # Check diagonals\n",
        "    if all(board[i][i] == board[0][0] and board[i][i] != ' ' for i in range(3)):\n",
        "        return True\n",
        "    if all(board[i][2 - i] == board[0][2] and board[i][2 - i] != ' ' for i in range(3)):\n",
        "        return True\n",
        "\n",
        "    return False\n",
        "\n",
        "def is_board_full(board):\n",
        "    return all(cell != ' ' for row in board for cell in row)\n",
        "\n",
        "def play_tic_tac_toe():\n",
        "    board = [[' ' for _ in range(3)] for _ in range(3)]\n",
        "    current_player = 'X'\n",
        "\n",
        "    while True:\n",
        "        print_board(board)\n",
        "\n",
        "        row = int(input(f\"Player {current_player}, enter row (0, 1, 2): \"))\n",
        "        col = int(input(f\"Player {current_player}, enter column (0, 1, 2): \"))\n",
        "\n",
        "        if board[row][col] == ' ':\n",
        "            board[row][col] = current_player\n",
        "            if check_winner(board):\n",
        "                print_board(board)\n",
        "                print(f\"Player {current_player} wins!\")\n",
        "                break\n",
        "            elif is_board_full(board):\n",
        "                print_board(board)\n",
        "                print(\"It's a tie!\")\n",
        "                break\n",
        "            else:\n",
        "                current_player = 'O' if current_player == 'X' else 'X'\n",
        "        else:\n",
        "            print(\"Cell already taken. Try again.\")\n",
        "\n",
        "if __name__ == \"__main__\":\n",
        "    play_tic_tac_toe()\n"
      ]
    },
    {
      "cell_type": "code",
      "source": [],
      "metadata": {
        "id": "Bpq617v68pdn"
      },
      "execution_count": null,
      "outputs": []
    }
  ]
}