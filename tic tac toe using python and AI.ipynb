{
  "nbformat": 4,
  "nbformat_minor": 0,
  "metadata": {
    "colab": {
      "provenance": []
    },
    "kernelspec": {
      "name": "python3",
      "display_name": "Python 3"
    },
    "language_info": {
      "name": "python"
    }
  },
  "cells": [
    {
      "cell_type": "code",
      "execution_count": null,
      "metadata": {
        "colab": {
          "base_uri": "https://localhost:8080/"
        },
        "id": "KNbhGgY3KjEi",
        "outputId": "06369658-0db3-4f9a-f48c-a0d73c726933"
      },
      "outputs": [
        {
          "output_type": "stream",
          "name": "stdout",
          "text": [
            "  |   |  \n",
            "---------\n",
            "  |   |  \n",
            "---------\n",
            "  |   |  \n",
            "---------\n"
          ]
        }
      ],
      "source": [
        "import random\n",
        "\n",
        "def print_board(board):\n",
        "    for row in board:\n",
        "        print(\" | \".join(row))\n",
        "        print(\"-\" * 9)\n",
        "\n",
        "def is_winner(board, player):\n",
        "    # Check rows, columns, and diagonals\n",
        "    for i in range(3):\n",
        "        if all(board[i][j] == player for j in range(3)) or \\\n",
        "           all(board[j][i] == player for j in range(3)):\n",
        "            return True\n",
        "    if all(board[i][i] == player for i in range(3)) or \\\n",
        "       all(board[i][2 - i] == player for i in range(3)):\n",
        "        return True\n",
        "    return False\n",
        "\n",
        "def is_board_full(board):\n",
        "    return all(board[i][j] != ' ' for i in range(3) for j in range(3))\n",
        "\n",
        "def get_empty_cells(board):\n",
        "    return [(i, j) for i in range(3) for j in range(3) if board[i][j] == ' ']\n",
        "\n",
        "def minimax(board, depth, maximizing_player):\n",
        "    if is_winner(board, 'O'):\n",
        "        return -1\n",
        "    elif is_winner(board, 'X'):\n",
        "        return 1\n",
        "    elif is_board_full(board):\n",
        "        return 0\n",
        "\n",
        "    if maximizing_player:\n",
        "        max_eval = float('-inf')\n",
        "        for i, j in get_empty_cells(board):\n",
        "            board[i][j] = 'X'\n",
        "            eval = minimax(board, depth + 1, False)\n",
        "            board[i][j] = ' '\n",
        "            max_eval = max(max_eval, eval)\n",
        "        return max_eval\n",
        "    else:\n",
        "        min_eval = float('inf')\n",
        "        for i, j in get_empty_cells(board):\n",
        "            board[i][j] = 'O'\n",
        "            eval = minimax(board, depth + 1, True)\n",
        "            board[i][j] = ' '\n",
        "            min_eval = min(min_eval, eval)\n",
        "        return min_eval\n",
        "\n",
        "def find_best_move(board):\n",
        "    best_val = float('-inf')\n",
        "    best_move = None\n",
        "\n",
        "    for i, j in get_empty_cells(board):\n",
        "        board[i][j] = 'X'\n",
        "        move_val = minimax(board, 0, False)\n",
        "        board[i][j] = ' '\n",
        "\n",
        "        if move_val > best_val:\n",
        "            best_move = (i, j)\n",
        "            best_val = move_val\n",
        "\n",
        "    return best_move\n",
        "\n",
        "def play_tic_tac_toe():\n",
        "    board = [[' ' for _ in range(3)] for _ in range(3)]\n",
        "    player_turn = True  # True if it's player's turn, False if AI's turn\n",
        "\n",
        "    print_board(board)\n",
        "\n",
        "    while True:\n",
        "        if player_turn:\n",
        "            row = int(input(\"Enter the row (0, 1, or 2): \"))\n",
        "            col = int(input(\"Enter the column (0, 1, or 2): \"))\n",
        "            if board[row][col] == ' ':\n",
        "                board[row][col] = 'O'\n",
        "                player_turn = False\n",
        "            else:\n",
        "                print(\"Cell already occupied. Try again.\")\n",
        "                continue\n",
        "        else:\n",
        "            print(\"AI's turn:\")\n",
        "            ai_row, ai_col = find_best_move(board)\n",
        "            board[ai_row][ai_col] = 'X'\n",
        "            player_turn = True\n",
        "\n",
        "        print_board(board)\n",
        "\n",
        "        if is_winner(board, 'O'):\n",
        "            print(\"Player wins!\")\n",
        "            break\n",
        "        elif is_winner(board, 'X'):\n",
        "            print(\"AI wins!\")\n",
        "            break\n",
        "        elif is_board_full(board):\n",
        "            print(\"It's a draw!\")\n",
        "            break\n",
        "\n",
        "\n",
        "play_tic_tac_toe()"
      ]
    },
    {
      "cell_type": "code",
      "source": [],
      "metadata": {
        "id": "e8izFTKJLjhG"
      },
      "execution_count": null,
      "outputs": []
    }
  ]
}